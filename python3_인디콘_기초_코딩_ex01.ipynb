{
  "nbformat": 4,
  "nbformat_minor": 0,
  "metadata": {
    "colab": {
      "name": "python3.인디콘 기초 코딩 ex01.ipynb",
      "provenance": [],
      "collapsed_sections": [],
      "authorship_tag": "ABX9TyMkrEW324gvjIYaFQkbdVyI",
      "include_colab_link": true
    },
    "kernelspec": {
      "name": "python3",
      "display_name": "Python 3"
    },
    "language_info": {
      "name": "python"
    }
  },
  "cells": [
    {
      "cell_type": "markdown",
      "metadata": {
        "id": "view-in-github",
        "colab_type": "text"
      },
      "source": [
        "<a href=\"https://colab.research.google.com/github/KBY538/AIcontents/blob/main/python3_%EC%9D%B8%EB%94%94%EC%BD%98_%EA%B8%B0%EC%B4%88_%EC%BD%94%EB%94%A9_ex01.ipynb\" target=\"_parent\"><img src=\"https://colab.research.google.com/assets/colab-badge.svg\" alt=\"Open In Colab\"/></a>"
      ]
    },
    {
      "cell_type": "markdown",
      "source": [
        "## 실행 단축키\n",
        "shift+enter 실행시키고 다음 칸으로  \n",
        "ctrl+enter 실행시키고 칸에 남아있다"
      ],
      "metadata": {
        "id": "X-AODK-IMEc1"
      }
    },
    {
      "cell_type": "markdown",
      "source": [
        "14~24p까지 과제"
      ],
      "metadata": {
        "id": "0EH1KIDLMyJf"
      }
    },
    {
      "cell_type": "code",
      "execution_count": 1,
      "metadata": {
        "colab": {
          "base_uri": "https://localhost:8080/"
        },
        "id": "Vx8RtdJL3wxr",
        "outputId": "ea7907d7-466c-45ab-ecc3-78f31defa827"
      },
      "outputs": [
        {
          "output_type": "stream",
          "name": "stdout",
          "text": [
            "x:\n",
            " [[1 2 3]\n",
            " [4 5 6]]\n"
          ]
        }
      ],
      "source": [
        "import numpy as np\n",
        "\n",
        "x = np.array([[1, 2, 3], [4, 5, 6]])\n",
        "print(\"x:\\n\", x)"
      ]
    },
    {
      "cell_type": "markdown",
      "source": [
        "이쁜 수식 만들기  \n",
        "$ y = ax + b $"
      ],
      "metadata": {
        "id": "s3abtCE5OQls"
      }
    },
    {
      "cell_type": "code",
      "source": [
        "from scipy import sparse\n",
        "# 대각선 원소는 1이고 나머지는 0인 2차원 NumPy 배열을 만듦.\n",
        "eye = np.eye(4)\n",
        "print (\"Numpy 배열:\\n\", eye)"
      ],
      "metadata": {
        "id": "phfE9NxjMEwG"
      },
      "execution_count": null,
      "outputs": []
    },
    {
      "cell_type": "code",
      "source": [
        "# Numpy 배열을 CSR 포맷의 SciPy 희소 행렬로 변환\n",
        "# 0이 아닌 원소만 저장됨\n",
        "# (참고) CSR: Compressed sparse row. 행의 인덱스를 압축하여 저장\n",
        "sparse_matrix = sparse.csr_matrix(eye)\n",
        "print (\"SciPy의 CSR 행렬:\\n\", sparse_matrix)"
      ],
      "metadata": {
        "id": "4oHnjpZZMVud"
      },
      "execution_count": null,
      "outputs": []
    },
    {
      "cell_type": "code",
      "source": [
        "data = np.ones(4)\n",
        "row"
      ],
      "metadata": {
        "id": "gTF2U79nM57P"
      },
      "execution_count": null,
      "outputs": []
    }
  ]
}